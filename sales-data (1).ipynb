{
 "cells": [
  {
   "cell_type": "code",
   "execution_count": 1,
   "id": "725ee11a",
   "metadata": {},
   "outputs": [
    {
     "data": {
      "text/html": [
       "<div>\n",
       "<style scoped>\n",
       "    .dataframe tbody tr th:only-of-type {\n",
       "        vertical-align: middle;\n",
       "    }\n",
       "\n",
       "    .dataframe tbody tr th {\n",
       "        vertical-align: top;\n",
       "    }\n",
       "\n",
       "    .dataframe thead th {\n",
       "        text-align: right;\n",
       "    }\n",
       "</style>\n",
       "<table border=\"1\" class=\"dataframe\">\n",
       "  <thead>\n",
       "    <tr style=\"text-align: right;\">\n",
       "      <th></th>\n",
       "      <th>invoice_no</th>\n",
       "      <th>customer_id</th>\n",
       "      <th>category</th>\n",
       "      <th>quantity</th>\n",
       "      <th>price</th>\n",
       "      <th>payment_method</th>\n",
       "      <th>invoice_date</th>\n",
       "      <th>shopping_mall</th>\n",
       "    </tr>\n",
       "  </thead>\n",
       "  <tbody>\n",
       "    <tr>\n",
       "      <th>0</th>\n",
       "      <td>I138884</td>\n",
       "      <td>229</td>\n",
       "      <td>Clothing</td>\n",
       "      <td>5</td>\n",
       "      <td>1500.40</td>\n",
       "      <td>Credit Card</td>\n",
       "      <td>5/8/2022</td>\n",
       "      <td>Kanyon</td>\n",
       "    </tr>\n",
       "    <tr>\n",
       "      <th>1</th>\n",
       "      <td>I317333</td>\n",
       "      <td>3433</td>\n",
       "      <td>Shoes</td>\n",
       "      <td>3</td>\n",
       "      <td>1800.51</td>\n",
       "      <td>Debit Card</td>\n",
       "      <td>12/12/2021</td>\n",
       "      <td>Forum Istanbul</td>\n",
       "    </tr>\n",
       "    <tr>\n",
       "      <th>2</th>\n",
       "      <td>I127801</td>\n",
       "      <td>644</td>\n",
       "      <td>Clothing</td>\n",
       "      <td>1</td>\n",
       "      <td>300.08</td>\n",
       "      <td>Cash</td>\n",
       "      <td>9/11/2021</td>\n",
       "      <td>Metrocity</td>\n",
       "    </tr>\n",
       "    <tr>\n",
       "      <th>3</th>\n",
       "      <td>I173702</td>\n",
       "      <td>4900</td>\n",
       "      <td>Shoes</td>\n",
       "      <td>5</td>\n",
       "      <td>3000.85</td>\n",
       "      <td>Credit Card</td>\n",
       "      <td>16/05/2021</td>\n",
       "      <td>Metropol AVM</td>\n",
       "    </tr>\n",
       "    <tr>\n",
       "      <th>4</th>\n",
       "      <td>I337046</td>\n",
       "      <td>1089</td>\n",
       "      <td>Books</td>\n",
       "      <td>4</td>\n",
       "      <td>60.60</td>\n",
       "      <td>Cash</td>\n",
       "      <td>24/10/2021</td>\n",
       "      <td>Kanyon</td>\n",
       "    </tr>\n",
       "  </tbody>\n",
       "</table>\n",
       "</div>"
      ],
      "text/plain": [
       "  invoice_no  customer_id  category  quantity    price payment_method  \\\n",
       "0    I138884          229  Clothing         5  1500.40    Credit Card   \n",
       "1    I317333         3433     Shoes         3  1800.51     Debit Card   \n",
       "2    I127801          644  Clothing         1   300.08           Cash   \n",
       "3    I173702         4900     Shoes         5  3000.85    Credit Card   \n",
       "4    I337046         1089     Books         4    60.60           Cash   \n",
       "\n",
       "  invoice_date   shopping_mall  \n",
       "0     5/8/2022          Kanyon  \n",
       "1   12/12/2021  Forum Istanbul  \n",
       "2    9/11/2021       Metrocity  \n",
       "3   16/05/2021    Metropol AVM  \n",
       "4   24/10/2021          Kanyon  "
      ]
     },
     "execution_count": 1,
     "metadata": {},
     "output_type": "execute_result"
    }
   ],
   "source": [
    "import pandas as pd\n",
    "\n",
    "df = pd.read_csv(\"fct_invoice.csv\")\n",
    "\n",
    "df.head()"
   ]
  },
  {
   "cell_type": "code",
   "execution_count": 5,
   "id": "ffc49f1e",
   "metadata": {},
   "outputs": [
    {
     "name": "stdout",
     "output_type": "stream",
     "text": [
      "Number of unique customers: 5191\n"
     ]
    }
   ],
   "source": [
    "#Question 1 EASY FINAL \n",
    "\n",
    "import pandas as pd\n",
    "\n",
    "df = pd.read_csv(\"fct_invoice.csv\")\n",
    "\n",
    "\n",
    "num_unique_customers = df['customer_id'].nunique()\n",
    "\n",
    "print(\"Number of unique customers:\", num_unique_customers)\n"
   ]
  },
  {
   "cell_type": "code",
   "execution_count": 8,
   "id": "a54414dc",
   "metadata": {},
   "outputs": [
    {
     "name": "stdout",
     "output_type": "stream",
     "text": [
      "Categories:  ['Clothing' 'Shoes' 'Books' 'Cosmetics' 'Food & Beverage' 'Toys'\n",
      " 'Technology' 'Souvenir']\n",
      "Number of Unique Categories 8\n"
     ]
    }
   ],
   "source": [
    "#Question 2 EASY FINAL\n",
    "import pandas as pd\n",
    "\n",
    "df = pd.read_csv(\"fct_invoice.csv\")\n",
    "\n",
    "categ = df[\"category\"].unique()\n",
    "num_categories = df[\"category\"].nunique()\n",
    "\n",
    "\n",
    "print(\"Categories: \", categ)\n",
    "print(\"Number of Unique Categories\",num_categories)"
   ]
  },
  {
   "cell_type": "code",
   "execution_count": 6,
   "id": "525bb755",
   "metadata": {},
   "outputs": [
    {
     "name": "stdout",
     "output_type": "stream",
     "text": [
      "Payment Methods Available: ['Credit Card' 'Debit Card' 'Cash']\n",
      "Most Popular Payment Method: Cash\n",
      "Cash           44447\n",
      "Credit Card    34931\n",
      "Debit Card     20079\n",
      "Name: payment_method, dtype: int64\n"
     ]
    }
   ],
   "source": [
    "#Question 3 EASY FINAL\n",
    "\n",
    "import pandas as pd\n",
    "\n",
    "df = pd.read_csv(\"fct_invoice.csv\")\n",
    "\n",
    "method = df[\"payment_method\"].unique()\n",
    "\n",
    "payment_method_counts = df[\"payment_method\"].value_counts()\n",
    "most_popular_method = payment_method_counts.index[0]\n",
    "\n",
    "print(\"Payment Methods Available:\", method)\n",
    "print(\"Most Popular Payment Method:\", most_popular_method)\n",
    "print(payment_method_counts)\n"
   ]
  },
  {
   "cell_type": "code",
   "execution_count": 24,
   "id": "22c73e18",
   "metadata": {},
   "outputs": [
    {
     "name": "stdout",
     "output_type": "stream",
     "text": [
      "    age first_name gender  id last_name\n",
      "0  48.0   Nicholas      M   0    Flores\n",
      "1   NaN    Jeffery      M   1      Rowe\n",
      "2  57.0     Alexis      F   2    Benton\n",
      "3  73.0        Amy      F   3   Johnson\n",
      "4  20.0      David      M   4     Moore\n"
     ]
    }
   ],
   "source": [
    "import pandas as pd\n",
    "\n",
    "df = pd.read_json(\"dim_customer.json\")\n",
    "\n",
    "print (df.head())\n"
   ]
  },
  {
   "cell_type": "code",
   "execution_count": 18,
   "id": "e77726ab",
   "metadata": {},
   "outputs": [
    {
     "name": "stdout",
     "output_type": "stream",
     "text": [
      "Top three categories: category\n",
      "Clothing      1.139968e+08\n",
      "Shoes         6.655345e+07\n",
      "Technology    5.786235e+07\n",
      "Name: TotalSales, dtype: float64\n"
     ]
    }
   ],
   "source": [
    "# Question 1 MEDIUM\n",
    "\n",
    "import pandas as pd\n",
    "df = pd.read_csv('fct_invoice.csv')\n",
    "\n",
    "df['TotalSales'] = df['price'] * df['quantity']\n",
    "category_sales = df.groupby('category')['TotalSales'].sum()\n",
    "sorted_categories = category_sales.sort_values(ascending=False)\n",
    "top_three_categories = sorted_categories.head(3)\n",
    "\n",
    "print(\"Top three categories:\", top_three_categories)\n",
    "\n",
    "\n",
    "\n"
   ]
  },
  {
   "cell_type": "code",
   "execution_count": 19,
   "id": "5282a94b",
   "metadata": {},
   "outputs": [
    {
     "name": "stdout",
     "output_type": "stream",
     "text": [
      "Total Sales for Customers over 45: 82039768.15\n"
     ]
    },
    {
     "name": "stderr",
     "output_type": "stream",
     "text": [
      "/var/folders/hb/wzm2gs0x69zgp01000bck4p40000gn/T/ipykernel_451/182198800.py:11: SettingWithCopyWarning: \n",
      "A value is trying to be set on a copy of a slice from a DataFrame.\n",
      "Try using .loc[row_indexer,col_indexer] = value instead\n",
      "\n",
      "See the caveats in the documentation: https://pandas.pydata.org/pandas-docs/stable/user_guide/indexing.html#returning-a-view-versus-a-copy\n",
      "  filtered_df['TotalSales'] = filtered_df['price'] * filtered_df['quantity']\n"
     ]
    }
   ],
   "source": [
    "#Question 2 MEDIUM \n",
    "import pandas as pd\n",
    "\n",
    "df_invoice = pd.read_csv(\"fct_invoice.csv\")\n",
    "df_customer = pd.read_json(\"dim_customer.json\")\n",
    "\n",
    "merged_df = pd.merge(df_invoice, df_customer, left_on=\"customer_id\", right_on=\"id\")\n",
    "filtered_df = merged_df[merged_df['age'] > 45]\n",
    "filtered_df['TotalSales'] = filtered_df['price'] * filtered_df['quantity']\n",
    "total_sales_over_45 = filtered_df['TotalSales'].sum()\n",
    "\n",
    "print(\"Total Sales for Customers over 45:\", total_sales_over_45)\n",
    "\n",
    "\n"
   ]
  },
  {
   "cell_type": "code",
   "execution_count": 22,
   "id": "9a63f992",
   "metadata": {},
   "outputs": [
    {
     "name": "stderr",
     "output_type": "stream",
     "text": [
      "/var/folders/hb/wzm2gs0x69zgp01000bck4p40000gn/T/ipykernel_96934/1950936307.py:11: UserWarning: Parsing dates in DD/MM/YYYY format when dayfirst=False (the default) was specified. This may lead to inconsistently parsed dates! Specify a format to ensure consistent parsing.\n",
      "  df['invoice_date'] = pd.to_datetime(df['invoice_date'])\n"
     ]
    },
    {
     "data": {
      "image/png": "[encoded data removed]",
      "text/plain": [
       "<Figure size 1000x600 with 1 Axes>"
      ]
     },
     "metadata": {},
     "output_type": "display_data"
    }
   ],
   "source": [
    "#Question 3 MEDIUM\n",
    "\n",
    "import pandas as pd\n",
    "import matplotlib.pyplot as plt\n",
    "df = pd.read_csv(\"fct_invoice.csv\")\n",
    "\n",
    "df['invoice_date'] = pd.to_datetime(df['invoice_date'])\n",
    "df.set_index('invoice_date', inplace=True)\n",
    "monthly_counts = df.resample('M').size()\n",
    "\n",
    "plt.figure(figsize=(10, 6))\n",
    "plt.plot(monthly_counts.index, monthly_counts.values)\n",
    "plt.title('Data Distribution Across Invoice Dates')\n",
    "plt.xlabel('Invoice Date')\n",
    "plt.ylabel('Number of Invoices')\n",
    "plt.xticks(rotation=45)\n",
    "plt.show()\n"
   ]
  },
  {
   "cell_type": "markdown",
   "id": "462b2fdd",
   "metadata": {},
   "source": [
    "In 2021, 2022, and 2023, the start of the year seems to experience a decline in sales (directly after the holiday season), but things start to pick up approaching May in 2021 and 2022. However, in 2023, unlike in the previous 2 years, a sharp decline is observed. This means that fewer sales transactions have been taking place, which could be an indication of a decline in sales performance and business activity. Starting 2023 until early 2024, number of invoices seem to only stay below 500, which is a large difference from the 3000-4000 it would get from 2021 and 2022 monthly. This prolonged downturn in sales activity might suggest less inclination towards in-person shopping and a shift towards alternative purchasing methods such as online shopping."
   ]
  },
  {
   "cell_type": "code",
   "execution_count": 20,
   "id": "d1e4872d",
   "metadata": {},
   "outputs": [
    {
     "name": "stdout",
     "output_type": "stream",
     "text": [
      "Decade Age Range        10.0         20.0         30.0         40.0  \\\n",
      "category                                                              \n",
      "Books               12801.75     79461.75     84143.10     87203.40   \n",
      "Clothing          1927413.84  10250732.80  11354126.96  11215189.92   \n",
      "Cosmetics          109619.36    605915.32    723544.70    665034.96   \n",
      "Food & Beverage     13582.31     73491.96     87246.86     89553.29   \n",
      "Shoes              993281.35   5924878.24   7200839.66   7025590.02   \n",
      "Souvenir            12375.15     54943.32     64092.72     66391.80   \n",
      "Technology        1129800.00   5261550.00   6159300.00   5954550.00   \n",
      "Toys                60426.24    385100.80    420582.40    390906.88   \n",
      "\n",
      "Decade Age Range         50.0         60.0        70.0        80.0  \n",
      "category                                                            \n",
      "Books                74962.20     80476.80    54827.85    26664.00  \n",
      "Clothing          10321851.76  10660642.08  7769371.28  4493698.00  \n",
      "Cosmetics           587780.96    649990.76   419082.62   254531.60  \n",
      "Food & Beverage      72425.04     80976.09    55050.98    31332.93  \n",
      "Shoes              5852857.84   5978893.54  4480269.05  2628744.60  \n",
      "Souvenir             54943.32     55025.43    38673.81    23718.06  \n",
      "Technology         4435200.00   5471550.00  3638250.00  1946700.00  \n",
      "Toys                345067.52    363955.20   273244.16   153932.80  \n"
     ]
    }
   ],
   "source": [
    "#HARD \n",
    "\n",
    "import pandas as pd\n",
    "\n",
    "df_invoice = pd.read_csv(\"fct_invoice.csv\")\n",
    "df_customer = pd.read_json(\"dim_customer.json\")\n",
    "\n",
    "merged_df = pd.merge(df_invoice, df_customer, left_on=\"customer_id\", right_on=\"id\")\n",
    "merged_df['Decade Age Range'] = (merged_df['age'] // 10) * 10\n",
    "merged_df['TotalSales'] = merged_df['price'] * merged_df['quantity']\n",
    "\n",
    "pivot_table = merged_df.pivot_table(values='TotalSales', index='category', columns='Decade Age Range', aggfunc='sum', fill_value=0)\n",
    "\n",
    "print(pivot_table)"
   ]
  },
  {
   "cell_type": "code",
   "execution_count": null,
   "id": "be74190d",
   "metadata": {},
   "outputs": [],
   "source": []
  }
 ],
 "metadata": {
  "kernelspec": {
   "display_name": "Python 3 (ipykernel)",
   "language": "python",
   "name": "python3"
  },
  "language_info": {
   "codemirror_mode": {
    "name": "ipython",
    "version": 3
   },
   "file_extension": ".py",
   "mimetype": "text/x-python",
   "name": "python",
   "nbconvert_exporter": "python",
   "pygments_lexer": "ipython3",
   "version": "3.10.9"
  }
 },
 "nbformat": 4,
 "nbformat_minor": 5
}
