import requests
import matplotlib.pyplot as plt
from datetime import datetime
import time

# Track ISS location and generate data points
api_endpoint = 'http://api.open-notify.org/iss-now.json'
data_points = []

for _ in range(100):
    try:
        response = requests.get(api_endpoint)
        response.raise_for_status()  # Raise an exception for non-200 status codes
        data = response.json()
        timestamp = datetime.fromtimestamp(data['timestamp'])
        latitude = float(data['iss_position']['latitude'])
        longitude = float(data['iss_position']['longitude'])
        data_points.append((latitude, longitude, timestamp))
        time.sleep(10)
    except (requests.exceptions.RequestException, ValueError, KeyError) as e:
        print(f'Error occurred while fetching data: {str(e)}')

# Print data points for verification
for latitude, longitude, timestamp in data_points:
    print(f'Latitude: {latitude}, Longitude: {longitude}, Timestamp: {timestamp}')

# Extract latitude and longitude data
latitudes = [point[0] for point in data_points]
longitudes = [point[1] for point in data_points]

# Plot the path of the ISS
plt.plot(longitudes, latitudes, marker='o')
plt.xlabel('Longitude')
plt.ylabel('Latitude')
plt.title('Path of the International Space Station')
plt.grid(True)
plt.show()
